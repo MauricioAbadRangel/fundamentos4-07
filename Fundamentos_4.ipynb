{
  "nbformat": 4,
  "nbformat_minor": 0,
  "metadata": {
    "colab": {
      "name": "Fundamentos 4.ipynb",
      "provenance": [],
      "authorship_tag": "ABX9TyPwOwY0ec/387bacrAF/V4A",
      "include_colab_link": true
    },
    "kernelspec": {
      "name": "python3",
      "display_name": "Python 3"
    },
    "language_info": {
      "name": "python"
    }
  },
  "cells": [
    {
      "cell_type": "markdown",
      "metadata": {
        "id": "view-in-github",
        "colab_type": "text"
      },
      "source": [
        "<a href=\"https://colab.research.google.com/github/MauricioAbadRangel/fundamentos4-07/blob/main/Fundamentos_4.ipynb\" target=\"_parent\"><img src=\"https://colab.research.google.com/assets/colab-badge.svg\" alt=\"Open In Colab\"/></a>"
      ]
    },
    {
      "cell_type": "markdown",
      "source": [
        "#Argumento por defecto\n",
        "Es la capacidad de las funciones de establecer el valor defecto(Default)\n",
        "Si no se envia un argumento a dicho parametro entonces se asigna al que el programador asigno default"
      ],
      "metadata": {
        "id": "xGdld9Zp-SqY"
      }
    },
    {
      "cell_type": "code",
      "source": [
        "def dividir(op1 , op2=2):\n",
        "    c = op1 / op2\n",
        "    return c\n",
        "print(dividir(25))"
      ],
      "metadata": {
        "colab": {
          "base_uri": "https://localhost:8080/"
        },
        "id": "yNwHnHfy-n5D",
        "outputId": "f5843e56-699c-48fe-81f7-0ca603ad3f72"
      },
      "execution_count": 4,
      "outputs": [
        {
          "output_type": "stream",
          "name": "stdout",
          "text": [
            "12.5\n"
          ]
        }
      ]
    },
    {
      "cell_type": "markdown",
      "source": [
        "Este concepto se puede ejemplificar con la funcion print"
      ],
      "metadata": {
        "id": "WzygN8iH_PuN"
      }
    },
    {
      "cell_type": "code",
      "source": [
        "help(print)"
      ],
      "metadata": {
        "colab": {
          "base_uri": "https://localhost:8080/"
        },
        "id": "MjwYOJk5_VT4",
        "outputId": "92acfeee-cea1-41bd-a877-16f4e67b7099"
      },
      "execution_count": 5,
      "outputs": [
        {
          "output_type": "stream",
          "name": "stdout",
          "text": [
            "Help on built-in function print in module builtins:\n",
            "\n",
            "print(...)\n",
            "    print(value, ..., sep=' ', end='\\n', file=sys.stdout, flush=False)\n",
            "    \n",
            "    Prints the values to a stream, or to sys.stdout by default.\n",
            "    Optional keyword arguments:\n",
            "    file:  a file-like object (stream); defaults to the current sys.stdout.\n",
            "    sep:   string inserted between values, default a space.\n",
            "    end:   string appended after the last value, default a newline.\n",
            "    flush: whether to forcibly flush the stream.\n",
            "\n"
          ]
        }
      ]
    },
    {
      "cell_type": "code",
      "source": [
        "nombre = \"Jose\"\n",
        "edad = 18\n",
        "print(nombre,edad, sep=':)')"
      ],
      "metadata": {
        "colab": {
          "base_uri": "https://localhost:8080/"
        },
        "id": "_d_T_kDU_1BD",
        "outputId": "aec06f21-e1aa-4a46-e1ef-c6f490be8e4e"
      },
      "execution_count": 6,
      "outputs": [
        {
          "output_type": "stream",
          "name": "stdout",
          "text": [
            "Jose:)18\n"
          ]
        }
      ]
    },
    {
      "cell_type": "markdown",
      "source": [
        "#ejercicios de argumentos pocisionales"
      ],
      "metadata": {
        "id": "uOIbdI3jA_K1"
      }
    },
    {
      "cell_type": "code",
      "source": [
        "def comanda(comensal=1,primer=\"Consome\",segundo=\"arroz rojo\", tercero=\"Enchiladas\"):\n",
        "    print(f\"El comensal { comensal } quiere: \")\n",
        "    print(\"\\t entrada:\" ,primer)\n",
        "    print(\"\\t medio:\" ,segundo)\n",
        "    print(\"\\t plato fuerte:\" ,tercero)\n",
        "\n",
        "\n",
        "comanda(3,\"Ensalada\", \"Arroz blaco\",\"Esparragos al horno\")"
      ],
      "metadata": {
        "colab": {
          "base_uri": "https://localhost:8080/"
        },
        "id": "2K0kDWaoBFJV",
        "outputId": "053f8f58-d95b-47f8-e889-9dc0bad6a4bf"
      },
      "execution_count": 14,
      "outputs": [
        {
          "output_type": "stream",
          "name": "stdout",
          "text": [
            "El comensal 3 quiere: \n",
            "\t entrada: Ensalada\n",
            "\t medio: Arroz blaco\n",
            "\t plato fuerte: Esparragos al horno\n"
          ]
        }
      ]
    },
    {
      "cell_type": "markdown",
      "source": [
        "#Argumentos enviados en grupo en una tupla.\n",
        "Sirve para enviar multiples argumentos a una funcion empleando el comodin   * \n",
        "\n",
        "\n",
        "```\n",
        "def mifun (args* ):\n",
        "    <Cuerpo de la funcion>\n",
        "```\n",
        "\n"
      ],
      "metadata": {
        "id": "YpZrYes-DcDY"
      }
    },
    {
      "cell_type": "code",
      "source": [
        "def comanda2( *opciones):\n",
        "    print(f\"El comensal {opciones[0]} pidio:\")\n",
        "    print(\"\\tEntrada:\",opciones[1])\n",
        "    print(\"\\tSegundo:\",opciones[2])\n",
        "    print(\"\\tPlato fuerte:\",opciones[3])\n",
        "    print(\"indicaciones extra:\")\n",
        "    for instruccion in opciones [4::]:\n",
        "        print(\"\\n\",instruccion)\n",
        "\n",
        "comanda2(1, \"Sopa de fideo\",\"Arroz\", \"Arrachera\")"
      ],
      "metadata": {
        "colab": {
          "base_uri": "https://localhost:8080/"
        },
        "id": "kN-s00kkEOYT",
        "outputId": "d2791b98-0b68-4b33-e67b-33cfd495ca39"
      },
      "execution_count": 21,
      "outputs": [
        {
          "output_type": "stream",
          "name": "stdout",
          "text": [
            "El comensal 1 pidio:\n",
            "\tEntrada: Sopa de fideo\n",
            "\tSegundo: Arroz\n",
            "\tPlato fuerte: Arrachera\n",
            "indicaciones extra:\n"
          ]
        }
      ]
    },
    {
      "cell_type": "markdown",
      "source": [
        "#Argumentos enviados en un grupo de diccionario\n",
        "Mismo concepto que el anterior se usa el comopdin ** y mapea un diccionario "
      ],
      "metadata": {
        "id": "RMWBzo1jHPWo"
      }
    },
    {
      "cell_type": "code",
      "source": [
        "def comanda3(**opciones):\n",
        "    print(opciones)\n",
        "comanda3(segundo=\"arroz blanco\",tercero=\"Esparragos al horno\",primer=\"Ensalada\",comensal=3)"
      ],
      "metadata": {
        "colab": {
          "base_uri": "https://localhost:8080/"
        },
        "id": "5b_-drbOHeON",
        "outputId": "05da0f85-c063-4b67-ad2d-880540448205"
      },
      "execution_count": 22,
      "outputs": [
        {
          "output_type": "stream",
          "name": "stdout",
          "text": [
            "{'segundo': 'arroz blanco', 'tercero': 'Esparragos al horno', 'primer': 'Ensalada', 'comensal': 3}\n"
          ]
        }
      ]
    },
    {
      "cell_type": "markdown",
      "source": [
        "#Como escribo un modulo de biblioteca \n",
        "se define la biblioteca"
      ],
      "metadata": {
        "id": "VaetHpISPQnf"
      }
    },
    {
      "cell_type": "code",
      "source": [
        "!cat mi_modulo.py"
      ],
      "metadata": {
        "colab": {
          "base_uri": "https://localhost:8080/"
        },
        "id": "r8elG-8SQg14",
        "outputId": "91e036af-bad6-4fc4-a861-b63c43d8084b"
      },
      "execution_count": 23,
      "outputs": [
        {
          "output_type": "stream",
          "name": "stdout",
          "text": [
            "def sumar(a,b):\r\n",
            "    return a + b\r\n",
            "def mi_print(texto, final):\r\n",
            "    print(\"Super:\",text, end=final)"
          ]
        }
      ]
    },
    {
      "cell_type": "code",
      "source": [
        "import mi_modulo\n",
        "\n",
        "res = mi_modulo.sumar(7,5)\n",
        "print(res)\n",
        "\n",
        "mi_modulo.mi_print(\"Jesus\", \"\\n\")"
      ],
      "metadata": {
        "colab": {
          "base_uri": "https://localhost:8080/"
        },
        "id": "IdeeomqBQufv",
        "outputId": "678e786d-a787-4cf3-99c0-e65396e6b829"
      },
      "execution_count": 1,
      "outputs": [
        {
          "output_type": "stream",
          "name": "stdout",
          "text": [
            "12\n",
            "Super: Jesus\n"
          ]
        }
      ]
    },
    {
      "cell_type": "code",
      "source": [
        "from mi_modulo import sumar, mi_print\n",
        "res = sumar (5,3)\n",
        "print(res)\n",
        "mi_print(\"Jesus\", \"\\n\")"
      ],
      "metadata": {
        "colab": {
          "base_uri": "https://localhost:8080/"
        },
        "id": "qCHznVVJSI8P",
        "outputId": "713cfc38-974d-4717-81b8-d2c57435160a"
      },
      "execution_count": 2,
      "outputs": [
        {
          "output_type": "stream",
          "name": "stdout",
          "text": [
            "8\n",
            "Super: Jesus\n"
          ]
        }
      ]
    },
    {
      "cell_type": "markdown",
      "source": [
        "#Manejo de archivos con python3\n",
        " -leer archivos \n",
        "\n",
        " -escribir archivos\n",
        "\n",
        " -manipular la informacion leida desde un archivo\n",
        " \n",
        " -formato de archivo"
      ],
      "metadata": {
        "id": "Y_E4uCjpSvlE"
      }
    },
    {
      "cell_type": "code",
      "source": [
        "archivo = open( \"salida.txt\",\"wt\")\n",
        "archivo. write(\"Hola mundo\")\n",
        "archivo.close()"
      ],
      "metadata": {
        "id": "9eoqS7QlTBoy"
      },
      "execution_count": 5,
      "outputs": []
    },
    {
      "cell_type": "code",
      "source": [
        "!cat salida.txt\n"
      ],
      "metadata": {
        "colab": {
          "base_uri": "https://localhost:8080/"
        },
        "id": "2U0gsGZFTQU9",
        "outputId": "648ff5f3-7f2c-4f3d-b3ec-d3d8fad6d45f"
      },
      "execution_count": 6,
      "outputs": [
        {
          "output_type": "stream",
          "name": "stdout",
          "text": [
            "Hola mundo"
          ]
        }
      ]
    }
  ]
}